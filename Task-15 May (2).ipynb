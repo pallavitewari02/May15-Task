{
 "cells": [
  {
   "cell_type": "code",
   "execution_count": 19,
   "id": "55e17440",
   "metadata": {},
   "outputs": [],
   "source": [
    "s=\"this is my First Python Programimng class & i am learning python & its functions\""
   ]
  },
  {
   "cell_type": "code",
   "execution_count": 20,
   "id": "1c3233ec",
   "metadata": {},
   "outputs": [
    {
     "data": {
      "text/plain": [
       "'h   r tnrrigls alrnph i nis'"
      ]
     },
     "execution_count": 20,
     "metadata": {},
     "output_type": "execute_result"
    }
   ],
   "source": [
    "s[1:301:3]"
   ]
  },
  {
   "cell_type": "raw",
   "id": "4581a5c6",
   "metadata": {},
   "source": [
    "Q2.Try to reverse a string without using reverse function \n"
   ]
  },
  {
   "cell_type": "code",
   "execution_count": 21,
   "id": "9c0adf73",
   "metadata": {},
   "outputs": [
    {
     "data": {
      "text/plain": [
       "'snoitcnuf sti & nohtyp gninrael ma i & ssalc gnmimargorP nohtyP tsriF ym si siht'"
      ]
     },
     "execution_count": 21,
     "metadata": {},
     "output_type": "execute_result"
    }
   ],
   "source": [
    "s[::-1]"
   ]
  },
  {
   "cell_type": "raw",
   "id": "7b501e66",
   "metadata": {},
   "source": [
    "Q3.Try to split a string after conversion of entire string in uppercase \n"
   ]
  },
  {
   "cell_type": "code",
   "execution_count": 5,
   "id": "0658320c",
   "metadata": {},
   "outputs": [],
   "source": [
    "s=s.upper()"
   ]
  },
  {
   "cell_type": "code",
   "execution_count": 6,
   "id": "8439d1a5",
   "metadata": {},
   "outputs": [
    {
     "data": {
      "text/plain": [
       "'THIS IS MY FIRST PYTHON PROGRAMIMNG CLASS & I AM LEARNING PYTHON & ITS FUNCTIONS'"
      ]
     },
     "execution_count": 6,
     "metadata": {},
     "output_type": "execute_result"
    }
   ],
   "source": [
    "s"
   ]
  },
  {
   "cell_type": "code",
   "execution_count": 7,
   "id": "1d23b158",
   "metadata": {
    "scrolled": true
   },
   "outputs": [
    {
     "data": {
      "text/plain": [
       "['THIS',\n",
       " 'IS',\n",
       " 'MY',\n",
       " 'FIRST',\n",
       " 'PYTHON',\n",
       " 'PROGRAMIMNG',\n",
       " 'CLASS',\n",
       " '&',\n",
       " 'I',\n",
       " 'AM',\n",
       " 'LEARNING',\n",
       " 'PYTHON',\n",
       " '&',\n",
       " 'ITS',\n",
       " 'FUNCTIONS']"
      ]
     },
     "execution_count": 7,
     "metadata": {},
     "output_type": "execute_result"
    }
   ],
   "source": [
    "s.split()"
   ]
  },
  {
   "cell_type": "raw",
   "id": "fe032b15",
   "metadata": {},
   "source": [
    "Q4.try to convert the whole string into lower case "
   ]
  },
  {
   "cell_type": "code",
   "execution_count": 8,
   "id": "6b64bd4d",
   "metadata": {},
   "outputs": [
    {
     "data": {
      "text/plain": [
       "'this is my first python programimng class & i am learning python & its functions'"
      ]
     },
     "execution_count": 8,
     "metadata": {},
     "output_type": "execute_result"
    }
   ],
   "source": [
    "s.lower()"
   ]
  },
  {
   "cell_type": "raw",
   "id": "121bda5e",
   "metadata": {},
   "source": [
    "Q.5.Try to capitalize the whole string \n"
   ]
  },
  {
   "cell_type": "code",
   "execution_count": 9,
   "id": "7d85bcbe",
   "metadata": {},
   "outputs": [
    {
     "data": {
      "text/plain": [
       "'This is my first python programimng class & i am learning python & its functions'"
      ]
     },
     "execution_count": 9,
     "metadata": {},
     "output_type": "execute_result"
    }
   ],
   "source": [
    "s.capitalize()"
   ]
  },
  {
   "cell_type": "markdown",
   "id": "0788afbf",
   "metadata": {},
   "source": [
    "Q 6. Write a diference between isalnum() and isalpha()\n",
    "\n",
    "s.isalnum() #Returns True if the string is either alpha or numeric\n",
    "s.isalpha() #Returns True if the string is alpha "
   ]
  },
  {
   "cell_type": "raw",
   "id": "0edd6321",
   "metadata": {},
   "source": [
    "Q 7. Try to give an example of expand tab\n"
   ]
  },
  {
   "cell_type": "code",
   "execution_count": 10,
   "id": "63181bb8",
   "metadata": {},
   "outputs": [],
   "source": [
    "s1=\"India\\tis\\tmy\\tcountry\\t\""
   ]
  },
  {
   "cell_type": "code",
   "execution_count": 11,
   "id": "79c9a139",
   "metadata": {},
   "outputs": [
    {
     "data": {
      "text/plain": [
       "'India   is      my      country '"
      ]
     },
     "execution_count": 11,
     "metadata": {},
     "output_type": "execute_result"
    }
   ],
   "source": [
    "s1.expandtabs()"
   ]
  },
  {
   "cell_type": "raw",
   "id": "13d00315",
   "metadata": {},
   "source": [
    "Q 8.Give an example of strip , lstrip and rstrip"
   ]
  },
  {
   "cell_type": "code",
   "execution_count": 1,
   "id": "c98c1606",
   "metadata": {},
   "outputs": [],
   "source": [
    "s=\" PallaviTewari  \""
   ]
  },
  {
   "cell_type": "code",
   "execution_count": 2,
   "id": "d8d4841f",
   "metadata": {},
   "outputs": [
    {
     "data": {
      "text/plain": [
       "'PallaviTewari'"
      ]
     },
     "execution_count": 2,
     "metadata": {},
     "output_type": "execute_result"
    }
   ],
   "source": [
    "s.strip()"
   ]
  },
  {
   "cell_type": "code",
   "execution_count": 15,
   "id": "28094ef1",
   "metadata": {},
   "outputs": [],
   "source": [
    "s=\"    Pallavi Tewari     \""
   ]
  },
  {
   "cell_type": "code",
   "execution_count": 16,
   "id": "4fd974c6",
   "metadata": {},
   "outputs": [
    {
     "data": {
      "text/plain": [
       "'Pallavi Tewari     '"
      ]
     },
     "execution_count": 16,
     "metadata": {},
     "output_type": "execute_result"
    }
   ],
   "source": [
    "s.lstrip()"
   ]
  },
  {
   "cell_type": "code",
   "execution_count": 17,
   "id": "54c07f21",
   "metadata": {},
   "outputs": [
    {
     "data": {
      "text/plain": [
       "'    Pallavi Tewari'"
      ]
     },
     "execution_count": 17,
     "metadata": {},
     "output_type": "execute_result"
    }
   ],
   "source": [
    "s.rstrip()"
   ]
  },
  {
   "cell_type": "raw",
   "id": "03bed1cf",
   "metadata": {},
   "source": [
    "Q. 9.  Replace a string charecter by another charector by taking your own example "
   ]
  },
  {
   "cell_type": "code",
   "execution_count": 3,
   "id": "2a574717",
   "metadata": {},
   "outputs": [],
   "source": [
    "s=\"Pallavi Tewari\""
   ]
  },
  {
   "cell_type": "code",
   "execution_count": 7,
   "id": "b51b312a",
   "metadata": {},
   "outputs": [
    {
     "data": {
      "text/plain": [
       "'Pallave Tewari'"
      ]
     },
     "execution_count": 7,
     "metadata": {},
     "output_type": "execute_result"
    }
   ],
   "source": [
    "s.replace(\"i\",\"e\",1)"
   ]
  },
  {
   "cell_type": "markdown",
   "id": "0e4e31ba",
   "metadata": {},
   "source": [
    "Q. 10. Try  to give a defenition of string \"center\" function with an example "
   ]
  },
  {
   "cell_type": "code",
   "execution_count": 10,
   "id": "2c68ace7",
   "metadata": {},
   "outputs": [
    {
     "data": {
      "text/plain": [
       "'***Pallavi Tewari**'"
      ]
     },
     "execution_count": 10,
     "metadata": {},
     "output_type": "execute_result"
    }
   ],
   "source": [
    "s.center(19,\"*\")"
   ]
  },
  {
   "cell_type": "markdown",
   "id": "84aaad3e",
   "metadata": {},
   "source": [
    "Q.11.Write your own definition of compiler and interpretor without copy paste form internet in your own language"
   ]
  },
  {
   "cell_type": "markdown",
   "id": "476a0b83",
   "metadata": {},
   "source": [
    "compiler:Compiler takes whole of the program & converts it into Object code which is Machine code for producing output.\n",
    "Interpreter:Interpreter executes source code line by line without converting into any Object code."
   ]
  },
  {
   "cell_type": "markdown",
   "id": "8702d0b6",
   "metadata": {},
   "source": [
    "Q.12. Python is a interpreted or compiled language? Give a clear ans with your understanding"
   ]
  },
  {
   "cell_type": "markdown",
   "id": "fc4632af",
   "metadata": {},
   "source": [
    "Python is Interpreted language as it executes source code line by line and generates the output/error line by line. "
   ]
  },
  {
   "cell_type": "raw",
   "id": "2c07040a",
   "metadata": {},
   "source": [
    "Q.13. Try to write a usecase of python with your understanding ."
   ]
  },
  {
   "cell_type": "markdown",
   "id": "225c5c87",
   "metadata": {},
   "source": [
    "Python is used in Webdevelopment,Data Analytics,data science.\n",
    "Web development: if a company wants to revamp portal with some specific features,Python can be a good option.\n",
    "Developer can build a new site with Python with its frameworks.\n",
    "\n",
    "Data Analytics:With Python Libraries as Pandas,Numpy,Matplotlib,data analysis can be done easily.If a company wants to know its \n",
    "user better,it can use pythion to know the sales better & predict trends to improve the lagging areas better.\n",
    "\n",
    "Data Science:A video streaming platform wants to icrease user engagement,data science team could use python to build a \n",
    "predictive model which recommends videos to users based on their wath history or their interests. "
   ]
  },
  {
   "cell_type": "code",
   "execution_count": null,
   "id": "0dff949b",
   "metadata": {},
   "outputs": [],
   "source": []
  }
 ],
 "metadata": {
  "kernelspec": {
   "display_name": "Python 3 (ipykernel)",
   "language": "python",
   "name": "python3"
  },
  "language_info": {
   "codemirror_mode": {
    "name": "ipython",
    "version": 3
   },
   "file_extension": ".py",
   "mimetype": "text/x-python",
   "name": "python",
   "nbconvert_exporter": "python",
   "pygments_lexer": "ipython3",
   "version": "3.9.12"
  }
 },
 "nbformat": 4,
 "nbformat_minor": 5
}
